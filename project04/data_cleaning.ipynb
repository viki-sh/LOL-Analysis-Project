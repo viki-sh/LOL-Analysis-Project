{
 "cells": [
  {
   "cell_type": "code",
   "execution_count": null,
   "metadata": {},
   "outputs": [
    {
     "ename": "",
     "evalue": "",
     "output_type": "error",
     "traceback": [
      "\u001b[1;31mRunning cells with 'base (Python 3.12.8)' requires the ipykernel package.\n",
      "\u001b[1;31mRun the following command to install 'ipykernel' into the Python environment. \n",
      "\u001b[1;31mCommand: 'conda install -n base ipykernel --update-deps --force-reinstall'"
     ]
    }
   ],
   "source": [
    "import pandas as pd\n",
    "pd.set_option('display.max_columns', None) "
   ]
  },
  {
   "cell_type": "code",
   "execution_count": null,
   "metadata": {},
   "outputs": [
    {
     "ename": "",
     "evalue": "",
     "output_type": "error",
     "traceback": [
      "\u001b[1;31mRunning cells with 'base (Python 3.12.8)' requires the ipykernel package.\n",
      "\u001b[1;31mRun the following command to install 'ipykernel' into the Python environment. \n",
      "\u001b[1;31mCommand: 'conda install -n base ipykernel --update-deps --force-reinstall'"
     ]
    }
   ],
   "source": [
    "df_2014 = pd.read_csv(\"2014_LoL_esports_match_data_from_OraclesElixir.csv\")\n",
    "df_2015 = pd.read_csv(\"2015_LoL_esports_match_data_from_OraclesElixir.csv\")\n",
    "df_2016 = pd.read_csv(\"2016_LoL_esports_match_data_from_OraclesElixir.csv\")\n",
    "df_2017 = pd.read_csv(\"2017_LoL_esports_match_data_from_OraclesElixir.csv\")\n",
    "df_2018 = pd.read_csv(\"2018_LoL_esports_match_data_from_OraclesElixir.csv\")\n",
    "df_2019 = pd.read_csv(\"2019_LoL_esports_match_data_from_OraclesElixir.csv\")\n",
    "df_2020 = pd.read_csv(\"2020_LoL_esports_match_data_from_OraclesElixir.csv\")\n",
    "df_2021 = pd.read_csv(\"2021_LoL_esports_match_data_from_OraclesElixir.csv\")\n",
    "df_2022 = pd.read_csv(\"2022_LoL_esports_match_data_from_OraclesElixir.csv\")\n",
    "df_2023 = pd.read_csv(\"2023_LoL_esports_match_data_from_OraclesElixir.csv\")\n",
    "df_2024 = pd.read_csv(\"2024_LoL_esports_match_data_from_OraclesElixir.csv\")\n",
    "df_2025 = pd.read_csv(\"2025_LoL_esports_match_data_from_OraclesElixir.csv\")\n"
   ]
  },
  {
   "cell_type": "code",
   "execution_count": null,
   "metadata": {},
   "outputs": [],
   "source": [
    "def clean(df):\n",
    "    df = df.copy()    \n",
    "    df = df[['gameid', 'side', 'champion','ban1', 'ban2', 'ban3', 'ban4','ban5','pick1', 'pick2','pick3','pick4','pick5','result']]\n",
    "    df_picks = df.groupby(['gameid', 'side'])['champion'].apply(list).reset_index()\n",
    "    df_picks[['pick1', 'pick2', 'pick3', 'pick4', 'pick5']] = pd.DataFrame(df_picks['champion'].apply(lambda x: x[:5]).to_list())\n",
    "\n",
    "    df_picks = df_picks.drop(columns=['champion'])\n",
    "\n",
    "    df_bans = df[['gameid','side',\"ban1\", \"ban2\", \"ban3\", \"ban4\", \"ban5\",'result']]\n",
    "    df_bans = df_bans.groupby(['gameid', 'side'], as_index=False).first()\n",
    "\n",
    "    return df_picks.merge(df_bans, on = ['gameid', 'side'], how = 'left').dropna(how='all')"
   ]
  },
  {
   "cell_type": "code",
   "execution_count": null,
   "metadata": {},
   "outputs": [],
   "source": [
    "cleaned_2014 = clean(df_2014)\n",
    "cleaned_2014.to_csv(\"cleaned_2014.csv\")\n",
    "\n",
    "cleaned_2015 = clean(df_2015)\n",
    "cleaned_2015.to_csv(\"cleaned_2015.csv\")\n",
    "\n",
    "cleaned_2016 = clean(df_2016)\n",
    "cleaned_2016.to_csv(\"cleaned_2016.csv\")\n",
    "\n",
    "cleaned_2017 = clean(df_2017)\n",
    "cleaned_2017.to_csv(\"cleaned_2017.csv\")\n",
    "\n",
    "cleaned_2018 = clean(df_2018)\n",
    "cleaned_2018.to_csv(\"cleaned_2018.csv\")\n",
    "\n",
    "cleaned_2019 = clean(df_2019)\n",
    "cleaned_2019.to_csv(\"cleaned_2019.csv\")\n",
    "\n",
    "cleaned_2020 = clean(df_2020)\n",
    "cleaned_2020.to_csv(\"cleaned_2020.csv\")\n",
    "\n",
    "cleaned_2021 = clean(df_2021)\n",
    "cleaned_2021.to_csv(\"cleaned_2021.csv\")\n",
    "\n",
    "cleaned_2022 = clean(df_2022)\n",
    "cleaned_2022.to_csv(\"cleaned_2022.csv\")\n",
    "\n",
    "cleaned_2023 = clean(df_2023)\n",
    "cleaned_2023.to_csv(\"cleaned_2023.csv\")\n",
    "\n",
    "cleaned_2024 = clean(df_2024)\n",
    "cleaned_2024.to_csv(\"cleaned_2024.csv\")\n",
    "\n",
    "cleaned_2025 = clean(df_2025)\n",
    "cleaned_2025.to_csv(\"cleaned_2025.csv\")"
   ]
  }
 ],
 "metadata": {
  "kernelspec": {
   "display_name": "base",
   "language": "python",
   "name": "python3"
  },
  "language_info": {
   "codemirror_mode": {
    "name": "ipython",
    "version": 3
   },
   "file_extension": ".py",
   "mimetype": "text/x-python",
   "name": "python",
   "nbconvert_exporter": "python",
   "pygments_lexer": "ipython3",
   "version": "3.12.8"
  }
 },
 "nbformat": 4,
 "nbformat_minor": 2
}
