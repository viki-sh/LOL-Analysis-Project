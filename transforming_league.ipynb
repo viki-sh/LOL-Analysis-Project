{
 "cells": [
  {
   "cell_type": "code",
   "execution_count": 1,
   "metadata": {},
   "outputs": [],
   "source": [
    "import pandas as pd"
   ]
  },
  {
   "cell_type": "code",
   "execution_count": 2,
   "metadata": {},
   "outputs": [],
   "source": [
    "cleaned_league = pd.read_csv(\"complete_cleaned.csv\")\n",
    "counter_df = pd.read_csv(\"counters.csv\")"
   ]
  },
  {
   "cell_type": "code",
   "execution_count": 3,
   "metadata": {},
   "outputs": [],
   "source": [
    "cleaned_league = cleaned_league.drop(columns=['Unnamed: 0.1', \"Unnamed: 0\"])"
   ]
  },
  {
   "cell_type": "code",
   "execution_count": 5,
   "metadata": {},
   "outputs": [
    {
     "name": "stderr",
     "output_type": "stream",
     "text": [
      "C:\\Users\\Viki Shi\\AppData\\Local\\Temp\\ipykernel_26364\\611670997.py:79: DeprecationWarning: DataFrameGroupBy.apply operated on the grouping columns. This behavior is deprecated, and in a future version of pandas the grouping columns will be excluded from the operation. Either pass `include_groups=False` to exclude the groupings or explicitly select the grouping columns after groupby to silence this warning.\n",
      "  counters_df = df.groupby(\"gameid\").apply(lambda x: count_counters(x, counter_dict)).reset_index()\n"
     ]
    }
   ],
   "source": [
    "import pandas as pd\n",
    "import ast  # For safely parsing tuple strings\n",
    "\n",
    "def format_champion(champ):\n",
    "    if pd.isna(champ):  \n",
    "        return None  \n",
    "    return champ.lower().replace(\" \", \"-\").replace(\"'\", \"\").replace(\"nunu-&-willump\", \"nunu-willump\").replace(\"dr.-mundo\", \"dr-mundo\")\n",
    "\n",
    "def get_picks_and_bans(df): \n",
    "    blue_picks = df[df['side'] == 'Blue'][['pick1', 'pick2', 'pick3', 'pick4', 'pick5']].values.flatten().tolist()\n",
    "    red_picks = df[df['side'] == 'Red'][['pick1', 'pick2', 'pick3', 'pick4', 'pick5']].values.flatten().tolist()\n",
    "\n",
    "    blue_bans = df[df['side'] == 'Blue'][['ban1', 'ban2', 'ban3', 'ban4', 'ban5']].values.flatten().tolist()\n",
    "    red_bans = df[df['side'] == 'Red'][['ban1', 'ban2', 'ban3', 'ban4', 'ban5']].values.flatten().tolist()\n",
    "\n",
    "    blue_picks = [format_champion(champ) for champ in blue_picks if pd.notna(champ)]\n",
    "    red_picks = [format_champion(champ) for champ in red_picks if pd.notna(champ)]\n",
    "    \n",
    "    blue_bans = [format_champion(champ) for champ in blue_bans if pd.notna(champ)]\n",
    "    red_bans = [format_champion(champ) for champ in red_bans if pd.notna(champ)]\n",
    "\n",
    "    return blue_picks, red_picks, blue_bans, red_bans\n",
    "\n",
    "def preprocess_counters(counter_df):\n",
    "    counter_dict = {}\n",
    "\n",
    "    for _, row in counter_df.iterrows():\n",
    "        champ = format_champion(row['Champion'])\n",
    "        \n",
    "        if pd.notna(row['counters champ']) and isinstance(row['counters champ'], str):\n",
    "            try:\n",
    "                counters = ast.literal_eval(row['counters champ'])  # Safely parse the tuple\n",
    "                if isinstance(counters, tuple):  # Ensure it's a tuple before extracting\n",
    "                    if champ not in counter_dict:\n",
    "                        counter_dict[champ] = set()\n",
    "                    counter_dict[champ].add(format_champion(counters[0]))  # Extract champion names\n",
    "            except (SyntaxError, ValueError):\n",
    "                continue  # Skip malformed rows\n",
    "                \n",
    "    return counter_dict\n",
    "\n",
    "def count_counters(df, counter_dict): \n",
    "    blue_picks, red_picks, blue_bans, red_bans = get_picks_and_bans(df)\n",
    "\n",
    "    num_blue_counters = 0\n",
    "    num_red_counters = 0\n",
    "    num_blue_counters_banned = 0\n",
    "    num_red_counters_banned = 0\n",
    "\n",
    "    # Count blue team's counter picks (against red team)\n",
    "    for red_champ in red_picks:\n",
    "        champ_counters = counter_dict.get(red_champ, set())  # Get the set of counters\n",
    "        num_blue_counters += sum(1 for blue_champ in blue_picks if blue_champ in champ_counters)  # Count all matches\n",
    "\n",
    "    # Count red team's counter picks (against blue team)\n",
    "    for blue_champ in blue_picks:\n",
    "        champ_counters = counter_dict.get(blue_champ, set())  # Get the set of counters\n",
    "        num_red_counters += sum(1 for red_champ in red_picks if red_champ in champ_counters)  # Count all matches\n",
    "\n",
    "    # Count blue team's counter bans (Blue banned a counter to Blue's own picks)\n",
    "    for blue_champ in blue_picks:\n",
    "        champ_counters = counter_dict.get(blue_champ, set())\n",
    "        num_blue_counters_banned += sum(1 for ban in blue_bans if ban in champ_counters)\n",
    "\n",
    "    # Count red team's counter bans (Red banned a counter to Red's own picks)\n",
    "    for red_champ in red_picks:\n",
    "        champ_counters = counter_dict.get(red_champ, set())\n",
    "        num_red_counters_banned += sum(1 for ban in red_bans if ban in champ_counters)\n",
    "\n",
    "    return pd.Series({\n",
    "        \"Red Counters\": num_red_counters, \n",
    "        \"Blue Counters\": num_blue_counters,\n",
    "        \"Red Counters Banned\": num_red_counters_banned,\n",
    "        \"Blue Counters Banned\": num_blue_counters_banned\n",
    "    })\n",
    "\n",
    "def process_data(df, counter_df):\n",
    "    counter_dict = preprocess_counters(counter_df)\n",
    "    counters_df = df.groupby(\"gameid\").apply(lambda x: count_counters(x, counter_dict)).reset_index()\n",
    "    df = df.merge(counters_df, on=\"gameid\", how=\"left\")\n",
    "    \n",
    "    df[\"num_counters\"] = df.apply(lambda row: row[\"Red Counters\"] if row[\"side\"] == \"Red\" else row[\"Blue Counters\"], axis=1)\n",
    "    df[\"num_counters_banned\"] = df.apply(lambda row: row[\"Red Counters Banned\"] if row[\"side\"] == \"Red\" else row[\"Blue Counters Banned\"], axis=1)\n",
    "    \n",
    "    # Fill NaN values to avoid calculation issues\n",
    "    df[\"num_counters\"] = df[\"num_counters\"].fillna(0)\n",
    "    df[\"num_counters_banned\"] = df[\"num_counters_banned\"].fillna(0)\n",
    "    \n",
    "    # Calculate PGA as the sum of num_counters and num_counters_banned\n",
    "    df[\"PGA\"] = df[\"num_counters\"] + df[\"num_counters_banned\"]\n",
    "    \n",
    "    df.drop(columns=[\"Red Counters\", \"Blue Counters\", \"Red Counters Banned\", \"Blue Counters Banned\"], inplace=True)\n",
    "\n",
    "    \n",
    "    \n",
    "    \n",
    "    return df\n",
    "\n",
    "# Load counter data\n",
    "counter_df = pd.read_csv(\"counters.csv\")\n",
    "\n",
    "# Load match data\n",
    "cleaned_league = pd.read_csv(\"complete_cleaned.csv\")\n",
    "\n",
    "# Process data (testing with a slice of 2 rows)\n",
    "final = process_data(cleaned_league, counter_df)\n",
    "final.head()\n",
    "final.to_csv(\"transformed_league_data.csv\")\n"
   ]
  },
  {
   "cell_type": "code",
   "execution_count": null,
   "metadata": {},
   "outputs": [],
   "source": []
  }
 ],
 "metadata": {
  "kernelspec": {
   "display_name": "dsc80",
   "language": "python",
   "name": "python3"
  },
  "language_info": {
   "codemirror_mode": {
    "name": "ipython",
    "version": 3
   },
   "file_extension": ".py",
   "mimetype": "text/x-python",
   "name": "python",
   "nbconvert_exporter": "python",
   "pygments_lexer": "ipython3",
   "version": "3.12.8"
  }
 },
 "nbformat": 4,
 "nbformat_minor": 2
}
