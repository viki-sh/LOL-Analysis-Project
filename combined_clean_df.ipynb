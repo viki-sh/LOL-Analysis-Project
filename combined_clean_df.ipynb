{
 "cells": [
  {
   "cell_type": "code",
   "execution_count": 7,
   "metadata": {},
   "outputs": [],
   "source": [
    "import pandas as pd"
   ]
  },
  {
   "cell_type": "code",
   "execution_count": 8,
   "metadata": {},
   "outputs": [],
   "source": [
    "df_2015 = pd.read_csv(\"cleaned_2015.csv\")\n",
    "df_2016 = pd.read_csv(\"cleaned_2016.csv\")\n",
    "df_2017 = pd.read_csv(\"cleaned_2017.csv\")\n",
    "df_2018 = pd.read_csv(\"cleaned_2018.csv\")\n",
    "df_2019 = pd.read_csv(\"cleaned_2019.csv\")\n",
    "df_2020 = pd.read_csv(\"cleaned_2020.csv\")\n",
    "df_2021 = pd.read_csv(\"cleaned_2021.csv\")\n",
    "df_2022 = pd.read_csv(\"cleaned_2022.csv\")\n",
    "df_2023 = pd.read_csv(\"cleaned_2023.csv\")\n",
    "df_2024 = pd.read_csv(\"cleaned_2024.csv\")\n",
    "df_2025 = pd.read_csv(\"cleaned_2025.csv\")"
   ]
  },
  {
   "cell_type": "code",
   "execution_count": 9,
   "metadata": {},
   "outputs": [],
   "source": [
    "result_df = pd.concat([df_2015, df_2016, df_2017, df_2018, df_2019, df_2020, df_2021, df_2022, df_2023, df_2024, df_2025])"
   ]
  },
  {
   "cell_type": "code",
   "execution_count": 11,
   "metadata": {},
   "outputs": [],
   "source": [
    "result_df.to_csv(\"complete_cleaned.csv\")"
   ]
  },
  {
   "cell_type": "code",
   "execution_count": null,
   "metadata": {},
   "outputs": [],
   "source": []
  }
 ],
 "metadata": {
  "kernelspec": {
   "display_name": "dsc80",
   "language": "python",
   "name": "python3"
  },
  "language_info": {
   "codemirror_mode": {
    "name": "ipython",
    "version": 3
   },
   "file_extension": ".py",
   "mimetype": "text/x-python",
   "name": "python",
   "nbconvert_exporter": "python",
   "pygments_lexer": "ipython3",
   "version": "3.12.8"
  }
 },
 "nbformat": 4,
 "nbformat_minor": 2
}
